{
 "cells": [
  {
   "cell_type": "code",
   "execution_count": null,
   "metadata": {},
   "outputs": [],
   "source": [
    "from ultralytics import YOLO\n",
    "from queue import Queue\n",
    "import cv2\n",
    "import time\n",
    "import threading"
   ]
  },
  {
   "cell_type": "code",
   "execution_count": null,
   "metadata": {},
   "outputs": [],
   "source": [
    "que = Queue()\n",
    "\n",
    "def for_thread(model, size, start, video, maxSize):\n",
    "    times = time.time()\n",
    "    results = []\n",
    "    end = 0\n",
    "    for i in range(start, start + size, 1):\n",
    "        if i == maxSize:\n",
    "            break\n",
    "        result = model(video[i])\n",
    "        res = result[0]\n",
    "        keypoints = res.keypoints\n",
    "        results.append(res.plot())\n",
    "        end = i\n",
    "    ts = time.time()\n",
    "    que.put(results)\n",
    "    print(ts - times)\n",
    "    return end"
   ]
  },
  {
   "cell_type": "code",
   "execution_count": null,
   "metadata": {},
   "outputs": [],
   "source": [
    "# times = time.time()\n",
    "cap = cv2.VideoCapture('chloe.mp4')\n",
    "model = YOLO('yolov8n-pose.pt')\n",
    "video = []\n",
    "\n",
    "fourcc = cv2.VideoWriter_fourcc(*'XVID')\n",
    "out = cv2.VideoWriter('output.avi', fourcc, 29.97, (1280, 720))\n",
    "\n",
    "while True:\n",
    "    r, frame = cap.read()\n",
    "    if not r:\n",
    "        break\n",
    "    video.append(frame)\n",
    "cap.release()"
   ]
  },
  {
   "cell_type": "code",
   "execution_count": null,
   "metadata": {},
   "outputs": [],
   "source": [
    "numOfThreads = 17\n",
    "models = []\n",
    "resultss = []\n",
    "sizes = []\n",
    "threads = []\n",
    "\n",
    "lens = len(video)\n",
    "\n",
    "for i in range(0, numOfThreads):\n",
    "    model = YOLO('yolov8n-pose.pt')\n",
    "    models.append(model)\n",
    "    sizes.append(lens//numOfThreads)\n",
    "    if lens%numOfThreads != 0 and i < lens%numOfThreads:\n",
    "        sizes[i] += 1\n",
    "\n",
    "start = 0"
   ]
  },
  {
   "cell_type": "code",
   "execution_count": null,
   "metadata": {},
   "outputs": [],
   "source": [
    "times = time.time()\n",
    "for i in range(len(models)):\n",
    "    th = threading.Thread(target=for_thread, args=(models[i], sizes[i], start, video, lens,), daemon=True)\n",
    "    threads.append(th)\n",
    "\n",
    "for th in threads:\n",
    "    th.start()\n",
    "\n",
    "out.release()"
   ]
  },
  {
   "cell_type": "code",
   "execution_count": null,
   "metadata": {},
   "outputs": [],
   "source": [
    "\n",
    "# for i in range(len(models)):\n",
    "#     res, start = for_thread(models[i], sizes[i], start, video, lens)\n",
    "#     resultss.append(res)\n",
    "\n",
    "# for i in resultss:\n",
    "#     for j in i:\n",
    "#         out.write(j)\n",
    "# out.release()"
   ]
  }
 ],
 "metadata": {
  "kernelspec": {
   "display_name": "Python 3",
   "language": "python",
   "name": "python3"
  },
  "language_info": {
   "codemirror_mode": {
    "name": "ipython",
    "version": 3
   },
   "file_extension": ".py",
   "mimetype": "text/x-python",
   "name": "python",
   "nbconvert_exporter": "python",
   "pygments_lexer": "ipython3",
   "version": "3.10.0"
  }
 },
 "nbformat": 4,
 "nbformat_minor": 2
}
