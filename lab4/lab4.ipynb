{
 "cells": [
  {
   "cell_type": "code",
   "execution_count": 42,
   "metadata": {},
   "outputs": [],
   "source": [
    "import time\n",
    "import threading\n",
    "import cv2\n",
    "import logging"
   ]
  },
  {
   "cell_type": "code",
   "execution_count": 45,
   "metadata": {},
   "outputs": [],
   "source": [
    "class Sensor:\n",
    "    def get(self):\n",
    "        raise NotImplementedError(\"Subclasses must implement method get()\")\n",
    "    \n",
    "class SensorX(Sensor):\n",
    "    def __init__(self, delay: float):\n",
    "        self._delay = delay\n",
    "        self._data = 0\n",
    "\n",
    "    def get(self) -> int:\n",
    "        time.sleep(self._delay)\n",
    "        self._data += 1\n",
    "        return self._data\n",
    "    \n",
    "class WindowImage():\n",
    "    def __init__(self, delay: int):\n",
    "        self._delay = delay\n",
    "\n",
    "    def __del__(self):\n",
    "        cv2.destroyAllWindows()\n",
    "\n",
    "    def show(self, frame):\n",
    "        time.sleep(self._delay)\n",
    "        cv2.imshow('Camera', frame)\n",
    "\n",
    "class SensorCam():\n",
    "    def __init__(self, cameraName, resolution):\n",
    "        self.cap = cv2.VideoCapture(cameraName)\n",
    "        self.cap.set(cv2.CAP_PROP_FRAME_WIDTH, resolution[0])\n",
    "        self.cap.set(cv2.CAP_PROP_FRAME_HEIGHT,resolution[1])\n",
    "\n",
    "    def __del__(self):\n",
    "        self.cap.release()\n",
    "\n",
    "    def get(self):\n",
    "        _, frame = self.cap.read()\n",
    "        return frame"
   ]
  },
  {
   "cell_type": "code",
   "execution_count": 46,
   "metadata": {},
   "outputs": [],
   "source": [
    "def putInfo(sensor: SensorX, sInfo):\n",
    "    while True:\n",
    "        sInfo[0] = sensor.get()\n",
    "        \n",
    "sens1 = SensorX(1)\n",
    "sens2 = SensorX(0.1)\n",
    "sens3 = SensorX(0.01)\n",
    "sInfo1 = [0]\n",
    "sInfo2 = [0]\n",
    "sInfo3 = [0]\n",
    "\n",
    "thread1 = threading.Thread(target=putInfo, args=(sens1, sInfo1,), daemon=True)\n",
    "thread2 = threading.Thread(target=putInfo, args=(sens2, sInfo2,), daemon=True)\n",
    "thread3 = threading.Thread(target=putInfo, args=(sens3, sInfo3,), daemon=True)"
   ]
  },
  {
   "cell_type": "code",
   "execution_count": 48,
   "metadata": {},
   "outputs": [],
   "source": [
    "logger = logging.basicConfig(filename = \"./log/errors.log\", level = logging.ERROR, format = '%(asctime)s - %(levelname)s - %(message)s')"
   ]
  },
  {
   "cell_type": "code",
   "execution_count": 49,
   "metadata": {},
   "outputs": [],
   "source": [
    "### Catching wrong camera name\n",
    "try:\n",
    "    cap = SensorCam(0, [1280, 720])\n",
    "except Exception as e:\n",
    "    logging.error(f'Camera Name or Resolution error: {str(e)}')\n",
    "\n",
    "show = WindowImage(0.001)\n",
    "\n",
    "thread1.start()\n",
    "thread2.start()\n",
    "thread3.start()\n",
    "\n",
    "while(True):\n",
    "    try:\n",
    "        frame = cap.get()\n",
    "        cv2.putText(frame, 'Sensor0: '+ str(sInfo1[0]), (30, 30), cv2.FONT_HERSHEY_SIMPLEX, 1, (255,255,255), 2)\n",
    "        cv2.putText(frame, 'Sensor1: '+ str(sInfo2[0]), (30, 60), cv2.FONT_HERSHEY_SIMPLEX, 1, (255,255,255), 2)\n",
    "        cv2.putText(frame, 'Sensor2: '+ str(sInfo3[0]), (30, 90), cv2.FONT_HERSHEY_SIMPLEX, 1, (255,255,255), 2)\n",
    "        show.show(frame)\n",
    "\n",
    "        if cv2.waitKey(1) & 0xFF == ord('q'):\n",
    "            break\n",
    "    \n",
    "    except Exception as e:\n",
    "        logging.error(f'Camera got disconnected: {str(e)}')\n",
    "\n",
    "cap.__del__()\n",
    "show.__del__()"
   ]
  }
 ],
 "metadata": {
  "kernelspec": {
   "display_name": "Python 3",
   "language": "python",
   "name": "python3"
  },
  "language_info": {
   "codemirror_mode": {
    "name": "ipython",
    "version": 3
   },
   "file_extension": ".py",
   "mimetype": "text/x-python",
   "name": "python",
   "nbconvert_exporter": "python",
   "pygments_lexer": "ipython3",
   "version": "3.10.0"
  }
 },
 "nbformat": 4,
 "nbformat_minor": 2
}
